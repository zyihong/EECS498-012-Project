{
 "cells": [
  {
   "cell_type": "code",
   "execution_count": 2,
   "metadata": {},
   "outputs": [],
   "source": [
    "import torch.nn as nn\n",
    "from torch.autograd import Variable\n",
    "import torch\n",
    "import torch.nn.functional as F"
   ]
  },
  {
   "cell_type": "code",
   "execution_count": 7,
   "metadata": {},
   "outputs": [],
   "source": [
    "class Generator(nn.Module):\n",
    "\n",
    "    def __init__(self, kernel_size=3):\n",
    "        super(Generator, self).__init__()\n",
    "        #input size (6,256,256)\n",
    "        self.conv1 = nn.Sequential(\n",
    "            nn.Conv2d(6,32,kernel_size,stride = 1, padding=1),\n",
    "            nn.LeakyReLU(),\n",
    "            nn.Conv2d(32,32,kernel_size,stride = 1, padding=1),\n",
    "            nn.LeakyReLU(),\n",
    "            nn.AvgPool2d(3,stride=2,padding=1))\n",
    "        #(3,128,128)\n",
    "        \n",
    "        self.conv2 = nn.Sequential(\n",
    "            nn.Conv2d(32,64,kernel_size,stride = 1, padding=1),\n",
    "            nn.LeakyReLU(),\n",
    "            nn.Conv2d(64,64,kernel_size,stride = 1, padding=1),\n",
    "            nn.LeakyReLU(),\n",
    "            nn.AvgPool2d(3,stride=2,padding=1))\n",
    "        #(64,64,64)\n",
    "        self.conv3 = nn.Sequential(\n",
    "            nn.Conv2d(64,128,kernel_size,stride = 1, padding=1),\n",
    "            nn.LeakyReLU(),\n",
    "            nn.Conv2d(128,128,kernel_size,stride = 1, padding=1),\n",
    "            nn.LeakyReLU(),\n",
    "            nn.AvgPool2d(3,stride=2,padding=1))\n",
    "        #(128,32,32)\n",
    "        self.conv4 = nn.Sequential(\n",
    "            nn.Conv2d(128,256,kernel_size,stride = 1, padding=1),\n",
    "            nn.LeakyReLU(),\n",
    "            nn.Conv2d(256,256,kernel_size,stride = 1, padding=1),\n",
    "            nn.LeakyReLU(),\n",
    "            nn.AvgPool2d(3,stride=2,padding=1))\n",
    "        #(256,16,16)\n",
    "        self.deconv4 = nn.Sequential(\n",
    "            nn.ConvTranspose2d(256,128,kernel_size,stride = 1, padding=2),\n",
    "            nn.LeakyReLU(),\n",
    "            nn.Conv2d(128,128,kernel_size,stride = 1, padding=2),\n",
    "            nn.LeakyReLU(),\n",
    "            nn.Upsample(scale_factor=2, mode='bilinear'))\n",
    "        #(128,32,32)\n",
    "        self.deconv3 = nn.Sequential(\n",
    "            nn.ConvTranspose2d(256,64,kernel_size,stride = 1, padding=2),\n",
    "            nn.LeakyReLU(),\n",
    "            nn.Conv2d(64,64,kernel_size,stride = 1, padding=2),\n",
    "            nn.LeakyReLU(),\n",
    "            nn.Upsample(scale_factor=2, mode='bilinear'))\n",
    "        #(64,64,64)\n",
    "        self.deconv2 = nn.Sequential(\n",
    "            nn.ConvTranspose2d(128,32,kernel_size,stride = 1, padding=2),\n",
    "            nn.LeakyReLU(),\n",
    "            nn.Conv2d(32,32,kernel_size,stride = 1, padding=2),\n",
    "            nn.LeakyReLU(),\n",
    "            nn.Upsample(scale_factor=2, mode='bilinear'))\n",
    "        #(3,256,256)\n",
    "        self.deconv1 = nn.Sequential(\n",
    "            nn.ConvTranspose2d(64,3,kernel_size,stride = 1, padding=2),\n",
    "            nn.LeakyReLU(),\n",
    "            nn.Conv2d(3,3,kernel_size,stride = 1, padding=2),\n",
    "            nn.LeakyReLU(),\n",
    "            nn.Upsample(scale_factor=2, mode='bilinear'))\n",
    "        \n",
    "    def forward(self,inputs):\n",
    "        e1 = self.conv1(inputs)\n",
    "        e2 = self.conv2(e1)\n",
    "        e3 = self.conv3(e2)\n",
    "        e4 = self.conv4(e3)\n",
    "        d4 = self.deconv4(e4)\n",
    "        d3_in = torch.cat((e3,d4),1)\n",
    "        d3 = self.deconv3(d3_in)\n",
    "        d2_in = torch.cat((e2,d3),1)\n",
    "        d2 = self.deconv2(d2_in)\n",
    "        d1_in = torch.cat((e1,d2),1)\n",
    "        d1 = self.deconv1(d1_in)\n",
    "        return d1"
   ]
  },
  {
   "cell_type": "code",
   "execution_count": 9,
   "metadata": {},
   "outputs": [
    {
     "name": "stdout",
     "output_type": "stream",
     "text": [
      "torch.Size([10, 3, 256, 256])\n"
     ]
    },
    {
     "name": "stderr",
     "output_type": "stream",
     "text": [
      "/home/emily/anaconda3/lib/python3.6/site-packages/torch/nn/modules/upsampling.py:129: UserWarning: nn.Upsample is deprecated. Use nn.functional.interpolate instead.\n",
      "  warnings.warn(\"nn.{} is deprecated. Use nn.functional.interpolate instead.\".format(self.name))\n",
      "/home/emily/anaconda3/lib/python3.6/site-packages/torch/nn/functional.py:2423: UserWarning: Default upsampling behavior when mode=bilinear is changed to align_corners=False since 0.4.0. Please specify align_corners=True if the old behavior is desired. See the documentation of nn.Upsample for details.\n",
      "  \"See the documentation of nn.Upsample for details.\".format(mode))\n"
     ]
    }
   ],
   "source": [
    "#test Generator\n",
    "inputs = torch.rand((10,6,256,256))\n",
    "model = Generator()\n",
    "outputs = model.forward(inputs)\n",
    "print(outputs.size())"
   ]
  },
  {
   "cell_type": "code",
   "execution_count": null,
   "metadata": {},
   "outputs": [],
   "source": [
    "class Discriminator(nn.Module):\n",
    "\n",
    "    def __init__(self, kernel_size=5, dim=64):\n",
    "        super(Discriminator, self).__init__()\n",
    "        self.kernel_size = kernel_size\n",
    "        self.dim = dim\n",
    "        \n",
    "    def forward(self, x):\n",
    "        batch_size, channel, height, width = x.shape\n",
    "        output = nn.Conv2d(channel, self.dim, self.kernel_size, stride=1, padding=2)\n",
    "        output = nn.LeakyReLU(output)\n",
    "        \n",
    "      "
   ]
  }
 ],
 "metadata": {
  "kernelspec": {
   "display_name": "Python 3",
   "language": "python",
   "name": "python3"
  },
  "language_info": {
   "codemirror_mode": {
    "name": "ipython",
    "version": 3
   },
   "file_extension": ".py",
   "mimetype": "text/x-python",
   "name": "python",
   "nbconvert_exporter": "python",
   "pygments_lexer": "ipython3",
   "version": "3.7.1"
  }
 },
 "nbformat": 4,
 "nbformat_minor": 2
}
